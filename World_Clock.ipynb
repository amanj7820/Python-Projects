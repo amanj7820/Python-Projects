{
  "nbformat": 4,
  "nbformat_minor": 0,
  "metadata": {
    "colab": {
      "name": "World Clock.ipynb",
      "provenance": []
    },
    "kernelspec": {
      "name": "python3",
      "display_name": "Python 3"
    },
    "language_info": {
      "name": "python"
    }
  },
  "cells": [
    {
      "cell_type": "markdown",
      "metadata": {
        "id": "HN5GB1VJHC-d"
      },
      "source": [
        "#World Clock"
      ]
    },
    {
      "cell_type": "code",
      "metadata": {
        "colab": {
          "base_uri": "https://localhost:8080/"
        },
        "id": "nu68rE1mG1nO",
        "outputId": "510a44eb-5880-4f15-c1a8-0543e69ccd72"
      },
      "source": [
        "import datetime  \n",
        "\n",
        "while (True):\n",
        "  city = input(\"Enter city: \") \n",
        "  current_time = datetime.datetime.now()\n",
        " \n",
        "  hour = current_time.hour\n",
        "  minute = current_time.minute\n",
        "  second = current_time.second\n",
        "  if city == \"Boston\":\n",
        "    hour = hour - 4 \n",
        "  elif city == \"Tokyo\":\n",
        "    hour = hour + 9\n",
        "  elif city == \"Chicago\":\n",
        "    hour = hour - 5 \n",
        "  elif city == \"Seattle\":\n",
        "    hour = hour - 7\n",
        "  elif city == \"Kolkata\":\n",
        "    hour = hour + 5\n",
        "    minute = minute + 30\n",
        "  elif city == \"Karachi\":\n",
        "    hour = hour + 5\n",
        "  elif city == \"Cairo\":\n",
        "    hour = hour + 2\n",
        "  elif city == \"Shanghai\":\n",
        "    hour = hour + 8\n",
        "  elif city == \"exit\": \n",
        "    break   \n",
        "  else:\n",
        "    print(city, \"is not added\")\n",
        "    city = \"GMT\" \n",
        "  print(city, str(hour) + \":\" + str(minute) + \":\" + str(second))\n"
      ],
      "execution_count": 2,
      "outputs": [
        {
          "output_type": "stream",
          "text": [
            "Enter city: Kolkata\n",
            "Kolkata 22:30:13\n",
            "Enter city: exif\n",
            "exif is not added\n",
            "GMT 17:0:17\n",
            "Enter city: exit\n"
          ],
          "name": "stdout"
        }
      ]
    },
    {
      "cell_type": "markdown",
      "metadata": {
        "id": "NdxT1S7IHAYf"
      },
      "source": [
        ""
      ]
    }
  ]
}